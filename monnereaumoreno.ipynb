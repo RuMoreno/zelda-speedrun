{
 "cells": [
  {
   "cell_type": "markdown",
   "id": "47905814",
   "metadata": {},
   "source": [
    "# Projet : Optimisation mathématique dans The Legend of Zelda\n",
    "\n",
    "## Introduction du problème\n",
    "\n",
    "Le speedrun est une pratique dans le monde du jeu-vidéo qui consiste à finir un jeu, une quête ou un groupe de quêtes le plus rapidement possible. Dans ce projet, nous nous intéresseront au speedrun du jeu *The Leged of Zelda : Breath of The Wild* et plus précisémment à la catégorie All shrines. Le problème consiste à visiter un certain nombre de structures appelées **sanctuaires** dispersées un peu partout sur la carte. Il existe 120 sanctuaires dans Breath of the Wild. Il faut donc trouver un moyen de parcourir ceux-ci le plus rapidement possible. \n",
    "Dans le jeu il est possible de se téléporter aux sanctuaires déjà visités, concrètement cela signifie que le problème à résoudre est le problème de l'**arbre couvrant de poids minimum** ou Minimum Spanning Tree (MST).\n",
    "    \n",
    "## Origine des données \n",
    "\n",
    "- Une image de la carte d'Hyrule vierge au format .jpg trouvée sur le [site](https://www.liberation.fr/futurs/2017/09/28/zelda-breath-of-the-wild-un-jeu-a-cartographier-soi-meme_1599512/)\n",
    "- Une carte intéractive d'Hyrule permmettant de récupérer les coordonnées des points d'intérêts disponible [ici](https://zeldamaps.com/?game=BotW&map=19&subMap=1901&zoom=6&x=121&y=-157)\n",
    "- La liste des coordonnées des sanctuaires directement disponible [ici](https://www.zeldadungeon.net/maps/botw/markers/pins.json)\n",
    "\n",
    "## Type d'analyse prévue\n",
    "\n",
    "- Générer un graphe euclidien à partir des coordonnées des points d'intérêt. Grâce à un gradient de couleur dans la carte, la couleur d'un pixel peut donc éventuellement servir de 3e coordonnées. Ce graphe sera à priori complet.\n",
    "- Faire une estimation du poids des arcs (on peut partir directement sur la distance à vol d'oiseau).\n",
    "- On peut réaliser une fonction qui détecte la présence de rivière ou non entre deux sanctuaires.\n",
    "- Résoudre le problème de l'arbre couvrant de poids minimum.\n",
    "- Afficher le chemin optimal directement sur la carte vierge.\n",
    "- (bonus) faire un interact où on peut bouger un curseur qui se déplace directement sur la carte.\n",
    "\n",
    "## Résultats attendus\n",
    "\n",
    "- Un arbre couvrant de poids minimum permettant de determiner un ordre optimal dans lequel visiter tous les sanctuaires.\n",
    "\n",
    "## Idées supplémentaires\n",
    "\n",
    "- Résoudre le même problème dans le jeu suivant *The Legend of Zelda : Tears of the Kingdom* (plus de sanctuaires, plus grande complexité, pas les mêmes ressources).\n",
    "- Analyser les différents résultats de speedruns disponible sur ce [site](https://www.speedrun.com/fr-FR/botw).\n",
    "- Trouver d'autres jeux avec un problème similaire auquel appliqué cette méthode.\n",
    "\n",
    "\n",
    "\n",
    "2 sources de données "
   ]
  },
  {
   "cell_type": "code",
   "execution_count": 22,
   "id": "d98c0d99",
   "metadata": {},
   "outputs": [],
   "source": [
    "#import des bibliothèques qui seront utilisées\n",
    "import json as js"
   ]
  },
  {
   "cell_type": "code",
   "execution_count": 45,
   "id": "cfd01968",
   "metadata": {},
   "outputs": [],
   "source": [
    "#On ouvre le fichier \"pins.json\" qui contient nos données et on stocke le tout dans dataBrut\n",
    "with open(\"pins.json\", 'r') as file:\n",
    "    dataBrut = js.load(file)"
   ]
  },
  {
   "cell_type": "code",
   "execution_count": 56,
   "id": "38d2b0c2",
   "metadata": {},
   "outputs": [],
   "source": [
    "#On récupére dans dataBrut les données concernant les sanctuaires du jeu\n",
    "dataShrine = dataBrut[1]['layers'][0]['markers']"
   ]
  },
  {
   "cell_type": "code",
   "execution_count": 55,
   "id": "463b17c3",
   "metadata": {},
   "outputs": [],
   "source": [
    "#On stocke dans x les abscisses des coordonnées des sanctuaires et dans y les ordonnées\n",
    "x = [dataShrine[i]['coords'][0] for i in range(len(dataShrine))]\n",
    "y = [dataShrine[i]['coords'][0] for i in range(len(dataShrine))]"
   ]
  },
  {
   "cell_type": "code",
   "execution_count": null,
   "id": "de3d961e",
   "metadata": {},
   "outputs": [],
   "source": []
  }
 ],
 "metadata": {
  "kernelspec": {
   "display_name": "Python 3 (ipykernel)",
   "language": "python",
   "name": "python3"
  },
  "language_info": {
   "codemirror_mode": {
    "name": "ipython",
    "version": 3
   },
   "file_extension": ".py",
   "mimetype": "text/x-python",
   "name": "python",
   "nbconvert_exporter": "python",
   "pygments_lexer": "ipython3",
   "version": "3.11.5"
  }
 },
 "nbformat": 4,
 "nbformat_minor": 5
}
